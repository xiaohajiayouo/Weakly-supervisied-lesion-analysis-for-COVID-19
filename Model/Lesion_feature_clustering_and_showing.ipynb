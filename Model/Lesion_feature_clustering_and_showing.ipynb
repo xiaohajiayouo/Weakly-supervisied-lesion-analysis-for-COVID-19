{
 "cells": [
  {
   "cell_type": "code",
   "execution_count": 1,
   "metadata": {},
   "outputs": [
    {
     "name": "stderr",
     "output_type": "stream",
     "text": [
      "Using TensorFlow backend.\n"
     ]
    }
   ],
   "source": [
    "import keras\n",
    "import numpy as np\n",
    "import cv2\n",
    "import os\n",
    "import random\n",
    "import shutil\n",
    "import pandas as pd\n",
    "import matplotlib.pyplot as plt\n",
    "import csv\n",
    "import zipfile\n",
    "import tensorflow as tf\n",
    "from keras import optimizers\n",
    "from keras.models import Sequential,Model\n",
    "from keras.layers import Dropout, Flatten, Dense,Input\n",
    "from keras.applications.resnet_v2 import ResNet50V2\n",
    "from keras.applications.xception import Xception\n",
    "from keras.applications.resnet50 import ResNet50\n",
    "from keras.applications.vgg16 import VGG16\n",
    "from keras.callbacks import ModelCheckpoint\n",
    "from keras.applications.imagenet_utils import preprocess_input\n",
    "from keras import backend as K\n",
    "from keras.preprocessing.image import ImageDataGenerator\n",
    "from keras.initializers import RandomNormal\n",
    "import keras.backend as k\n",
    "from sklearn.utils import shuffle\n",
    "import io\n",
    "from PIL import Image as pil_image\n",
    "from keras_retinanet import layers\n",
    "import keras.backend as k\n",
    "import keras_retinanet\n",
    "import random\n",
    "import pandas\n",
    "from skimage import measure,color,filters\n",
    "import matplotlib.pyplot as plt\n",
    "from scipy.ndimage import binary_opening, binary_dilation\n",
    "from scipy.ndimage import zoom"
   ]
  },
  {
   "cell_type": "code",
   "execution_count": 4,
   "metadata": {},
   "outputs": [],
   "source": [
    "os.environ[\"CUDA_VISIBLE_DEVICES\"] = '2,3'\n",
    "config = tf.compat.v1.ConfigProto(allow_soft_placement = True)\n",
    "# config.gpu_options.per_process_gpu_memory_fraction = 0.7\n",
    "# config.gpu_options.allow_growth = True\n",
    "tf.compat.v1.keras.backend.set_session(tf.compat.v1.Session(config=config))"
   ]
  },
  {
   "cell_type": "markdown",
   "metadata": {},
   "source": [
    "一张图 有多个病灶"
   ]
  },
  {
   "cell_type": "code",
   "execution_count": null,
   "metadata": {},
   "outputs": [],
   "source": [
    "def detected_lesion_box(heat1_map):\n",
    "    gray_heatmap = cv2.cvtColor(heat1_map,cv2.COLOR_BGR2GRAY)\n",
    "    box_region = np.where(gray_heatmap > 150, 255, 0)\n",
    "\n",
    "    # print(thre1)\n",
    "#     plt.figure()\n",
    "#     plt.imshow(heat1_map)\n",
    "#     plt.figure()\n",
    "#     plt.imshow(box_region)\n",
    "#     # cv2.imwrite('img_gray.jpg',img_gray)\n",
    "\n",
    "    labeled_img, num = measure.label(box_region,connectivity = 2, background = 0, return_num=True)\n",
    "    properties = measure.regionprops(labeled_img)\n",
    "    \n",
    "    \n",
    "    valid_box = []\n",
    "    for prop in properties:\n",
    "        if prop.area > 800:\n",
    "            valid_box.append(prop.bbox)\n",
    "    for i, box in enumerate(valid_box):  #展示每个box\n",
    "        heat_zeros = np.zeros((512,512))\n",
    "        heat_zeros[box[0]:box[2],box[1]:box[3]] = 1\n",
    "        plt.figure()\n",
    "        plt.imshow(heat_zeros)\n",
    "#     return labeled_img,valid_box\n",
    "    plt.figure()\n",
    "    plt.imshow(heat_zeros)"
   ]
  },
  {
   "cell_type": "code",
   "execution_count": null,
   "metadata": {},
   "outputs": [],
   "source": [
    "valid_box= [[3,1],[9,2],[13,5],[14,11]]\n",
    "heat_zeros = np.zeros((16,16))\n",
    "for i, box in enumerate(valid_box):  #展示每个box\n",
    "    \n",
    "    heat_zeros[box[0],box[1]] = 1\n",
    "plt.figure()\n",
    "fig = plt.gcf()\n",
    "fig.set_size_inches(7.0/3,7.0/3) #dpi = 300, output = 700*700 pixels\n",
    "plt.gca().xaxis.set_major_locator(plt.NullLocator())\n",
    "plt.gca().yaxis.set_major_locator(plt.NullLocator())\n",
    "plt.subplots_adjust(top = 1, bottom = 0, right = 1, left = 0, hspace = 0, wspace = 0)\n",
    "plt.margins(0,0)\n",
    "plt.imshow(heat_zeros)\n",
    "plt.savefig('local_.jpg', dpi=300)"
   ]
  },
  {
   "cell_type": "code",
   "execution_count": null,
   "metadata": {},
   "outputs": [],
   "source": [
    "# create heat map\n",
    "test_cam = cv2.resize(cam, (512,512), cv2.INTER_LINEAR)\n",
    "test_cam = np.maximum(test_cam, 0) # 逐位比较 \n",
    "heatmap = test_cam / np.max(test_cam)\n",
    "\n",
    "heat_map = cv2.applyColorMap(np.uint8(255 * heatmap), cv2.COLORMAP_JET)\n",
    "\n",
    "# label_img,_= detected_lesion_box(heat_map)\n",
    "\n",
    "# cv2.imwrite(f'./test_image/{num}/{num}_heat_map.jpg', heat_map)\n",
    "# cv2.imwrite('test_cam.jpg', heat_map)\n",
    "# print(output[:,:,0].shape)\n",
    "c = output[:,:,0]\n",
    "plt.figure()\n",
    "plt.imshow(label_img)\n",
    "plt.show()\n",
    "plt.figure()\n",
    "plt.imshow(test_cam)\n",
    "plt.show()"
   ]
  },
  {
   "cell_type": "code",
   "execution_count": null,
   "metadata": {},
   "outputs": [],
   "source": [
    "plt.figure()\n",
    "plt.imshow(cam)\n",
    "plt.show()\n",
    "cam = cam/np.max(cam)  # 将cam 进行归一化\n",
    "thre = filters.threshold_otsu(cam.flatten())\n",
    "print(thre)\n",
    "gray_cam = np.where(cam < thre,0,1)\n",
    "# gray_cam = np.array(gray_cam, dtype = np.int32) # int32 就是python的int格式\n",
    "print(gray_cam)\n",
    "plt.figure()\n",
    "plt.imshow(gray_cam)\n",
    "plt.show()\n",
    "labeled_img, num = measure.label(gray_cam, connectivity = 2, background = 0, return_num=True)\n",
    "plt.figure()\n",
    "plt.imshow(labeled_img)\n",
    "plt.show()\n",
    "print(num)\n",
    "print(labeled_img)\n",
    "properties = measure.regionprops(labeled_img)\n",
    "valid_box = []\n",
    "indexs = []  # 极值点坐标\n",
    "features = []\n",
    "for prop in properties:\n",
    "    valid_box.append(prop.bbox) # min_row, min_col, max_row, max_col\n",
    "labels = []\n",
    "index_labels = []\n",
    "zeros = np.zeros((16,16))\n",
    "for i, box in enumerate(valid_box):\n",
    "    print(box)\n",
    "#     [(9, 13, 11, 16), (12, 1, 16, 5), (12, 10, 16, 15)]\n",
    "    zeros[box[0]:box[2],box[1]:box[3]] = 1 #测试 box的大小 \n",
    "#     np.agrmax(cam[box[0]:box[2],box[1]:box[3]])\n",
    "#     mask_cam = zeros*cam\n",
    "#     index = np.unravel_index(np.argmax(mask_cam), mask_cam.shape)\n",
    "#     indexs.append(index) # [(10, 14), (13, 2), (13, 12)]\n",
    "#     feature = output[index[0],index[1],:]\n",
    "#     feature =np.array(feature, dtype = np.float64)\n",
    "#     label = K_means.predict(np.expand_dims(feature,axis = 0))\n",
    "#     if label in labels:\n",
    "#         new_label = labels.index(label) + 1 # 标签是索引 加1，这里索引是从 0开始 labels 是聚类后的标签，索引是连通域的标签\n",
    "#         labeled_img[labeled_img == (i+1) ] =new_label\n",
    "#     else: labels.append(label)\n",
    "#     index_labels.append(label[0])\n",
    "#     features.append(feature)\n",
    "\n",
    "features = np.array(features, dtype = np.float64)\n",
    "# labels = K_means.predict(features)\n",
    "print(labels)\n",
    "print(index_labels)\n",
    "plt.figure()\n",
    "plt.imshow(labeled_img)\n",
    "plt.show()\n",
    "# break \n",
    "# feature = np.expand_dims(feature,axis = 0)\n",
    "# feature = np.array(feature,dtype = np.float64)\n",
    "# label = K_means.predict(feature)\n",
    "# print(label)\n",
    "# break   \n",
    "#     f_path =  open(f'./LUNG_image/Lung/{fold_num}_feature/{num}_{i}.txt','a+')\n",
    "#     np.savetxt(f_path,feature)\n",
    "#     f.close()\n",
    "    \n",
    "# print(indexs)\n",
    "# print(zeros)\n",
    "# print(mask_cam)\n",
    "# print(indexs[2][0],indexs[2][1])\n",
    "# print(mask_cam[indexs[2][0],indexs[2][1]])\n",
    "# print(np.array(features,dtype = np.int32).shape)\n",
    "# print(type(features))\n",
    "# cv2.imwrite('heat_box.jpg',gray_cam*255)\n",
    "# plt.figure()\n",
    "# plt.imshow(gray_cam)\n",
    "# plt.show()"
   ]
  },
  {
   "cell_type": "code",
   "execution_count": null,
   "metadata": {},
   "outputs": [],
   "source": [
    "c = ['b','w','r',\"purple\",'black','orange']\n",
    "print(indexs)\n",
    "print(index_labels)\n",
    "plt.figure()\n",
    "fig=plt.subplot(1,1,1)\n",
    "fig.imshow(labeled_img)\n",
    "for i,index in enumerate(indexs):\n",
    "    print(index_labels[i])\n",
    "    fig.text(index[1],index[0],str(index_labels[i]), fontsize= 14, color =c[np.random.randint(0,6)])\n",
    "plt.show()"
   ]
  },
  {
   "cell_type": "code",
   "execution_count": null,
   "metadata": {},
   "outputs": [],
   "source": [
    "print(len(labels))"
   ]
  },
  {
   "cell_type": "code",
   "execution_count": null,
   "metadata": {},
   "outputs": [],
   "source": [
    "f_path = './LUNG_image/Lung/3_feature/0.txt'\n",
    "# f = open(f_path,'w')\n",
    "# index = np.unravel_index(np.argmax(cam),cam.shape)\n",
    "# print(index)\n",
    "# print(cam[index])\n",
    "# feature = output[index[0],index[1],:]\n",
    "# print(feature.shape)\n",
    "# print(type(feature))\n",
    "# print(feature[6:10])# 2.00068507e-06 \n",
    "# np.savetxt(f,feature)\n",
    "# f.close()\n",
    "print(feature[6:10])\n",
    "a = np.loadtxt(f_path)\n",
    "print(a[6:10])"
   ]
  },
  {
   "cell_type": "code",
   "execution_count": null,
   "metadata": {},
   "outputs": [],
   "source": [
    "print(heat_map.shape)\n",
    "heatmap = cv2.applyColorMap(np.uint8(255 * heat_map), cv2.COLORMAP_JET)\n",
    "plt.figure()\n",
    "plt.imshow(heatmap)\n",
    "plt.show()\n",
    "cv2.imwrite('heat_map.jpg', heatmap)\n",
    "gray_heatmap = cv2.cvtColor(heatmap,cv2.COLOR_BGR2GRAY)\n",
    "plt.figure()\n",
    "plt.imshow(gray_heatmap)\n",
    "plt.show()\n",
    "cv2.imwrite('gray_heatmap.jpg',gray_heatmap)"
   ]
  },
  {
   "cell_type": "code",
   "execution_count": 19,
   "metadata": {},
   "outputs": [],
   "source": [
    "from sklearn.cluster import MiniBatchKMeans, KMeans\n",
    "from sklearn.metrics.pairwise import pairwise_distances_argmin\n",
    "from sklearn.metrics import calinski_harabasz_score # 用来评判 聚类的效果\n",
    "import time\n",
    "fea_indexs = []\n",
    "features = []\n",
    "org_feature_path = f'./LUNG_image/Lung/{3}_feature'\n",
    "num = len(os.listdir(org_feature_path))\n",
    "for i,f_path in enumerate(os.listdir(org_feature_path)) :\n",
    "    feature_path = os.path.join(org_feature_path,f_path)\n",
    "    if feature_path.endswith('.txt'):\n",
    "#         print(i,f_path)\n",
    "        feature = np.loadtxt(feature_path)\n",
    "        fea_index = f_path.strip('.txt')\n",
    "        fea_indexs.append(fea_index)\n",
    "        features.extend(feature)\n",
    "\n",
    "features = np.array(features).reshape((-1,2048))"
   ]
  },
  {
   "cell_type": "markdown",
   "metadata": {},
   "source": [
    "定 K"
   ]
  },
  {
   "cell_type": "code",
   "execution_count": 24,
   "metadata": {},
   "outputs": [
    {
     "name": "stdout",
     "output_type": "stream",
     "text": [
      "96\n",
      "97\n",
      "1980274.890829844\n",
      "32.38774957753296\n",
      "4632495.5638415245\n",
      "85.67203725222822\n"
     ]
    }
   ],
   "source": [
    "Kin = []\n",
    "Kch = []\n",
    "\n",
    "for k in range(2,100):\n",
    "    K_means = KMeans(k)\n",
    "    t0 = time.time()\n",
    "    K_means.fit(features)\n",
    "    t_batch = time.time() - t0\n",
    "#     print('time is ',t_batch)\n",
    "    y_pre = K_means.labels_\n",
    "    Kin.append(K_means.inertia_)\n",
    "    Kch.append(calinski_harabasz_score(features, y_pre))\n",
    "\n",
    "# print(calinski_harabasz_score(features, y_pre)) #  Variance Ratio Criterion.\n",
    "# # print(len(features))\n",
    "# # features = np.array(features).reshape((-1,2048))\n",
    "# # print(features.shape)\n",
    "# print(K_means.inertia_) # 到最近聚类中心的 样本平方和\n",
    "# print(K_means.cluster_centers_)\n",
    "\n",
    "print(np.argmin(Kin))\n",
    "print(np.argmin(Kch))\n",
    "\n",
    "print(Kin[np.argmin(Kin)])\n",
    "print(Kch[np.argmin(Kch)])\n",
    "\n",
    "print(Kin[16])\n",
    "print(Kch[16])\n",
    "\n",
    "#####  100 #########\n",
    "# 96\n",
    "# 97\n",
    "# 1965944.9976178207\n",
    "# 32.63786744452339\n",
    "\n",
    "#####  500 #########\n",
    "# 183\n",
    "# 61\n",
    "# 7596225.126894367\n",
    "# 186.28653443635\n"
   ]
  },
  {
   "cell_type": "code",
   "execution_count": 30,
   "metadata": {},
   "outputs": [
    {
     "name": "stdout",
     "output_type": "stream",
     "text": [
      "-3.7223918288399705e-06\n"
     ]
    },
    {
     "data": {
      "image/png": "[encoded data removed]",
      "text/plain": [
       "<Figure size 432x288 with 1 Axes>"
      ]
     },
     "metadata": {
      "needs_background": "light"
     },
     "output_type": "display_data"
    }
   ],
   "source": [
    "plt.plot(Kin)\n",
    "# plt.title('The inertias with different K')\n",
    "plt.ylabel('Inertias')\n",
    "plt.xlabel('K')\n",
    "plt.xticks()\n",
    "n=12\n",
    "thisx = n\n",
    "thisy = Kin[n]\n",
    "textx = n+10\n",
    "texty = Kin[4]+0.1* Kin[4]\n",
    "plt.annotate(\" \", (thisx,thisy), xycoords='data',\n",
    "             xytext=(textx,texty), weight='bold',\n",
    "             arrowprops=dict(facecolor='red',width= 2,headwidth=10,shrink=0.05)) \n",
    "plt.text(textx, texty, 'elbow method',fontdict={'size': 15},weight=\"bold\")\n",
    "plt.plot(thisx,thisy,marker='o', markersize=8) \n",
    "plt.text(thisx+5, thisy*0.98, 'K=12',fontdict={'size': 15})\n",
    "# t= [4, ]\n",
    "# plt.plot(t,theta,label=\"$theta$\",color=\"red\",linewidth=2)\n",
    "lv= 10/(thisy-texty)\n",
    "print(lv)\n",
    "sx = 2\n",
    "sy = lv*10+ 1.2*thisy\n",
    "endy =lv*10+ 0.75*thisy\n",
    "endx = 22\n",
    "plt.plot([sx,endx],[sy,endy],'r-',lw = 2)\n",
    "# plt.plot(endx,endy,marker='o', markersize=8)\n",
    "# plt.plot(sx,sy,marker='o', markersize=8)\n",
    "# plt.gca().xaxis.set_major_locator(plt.NullLocator())\n",
    "# plt.gca().yaxis.set_major_locator(plt.NullLocator())\n",
    "# plt.subplots_adjust(top= 1,bottom= 0,left= 0,right= 1,hspace= 0,wspace=0)\n",
    "plt.margins(0,0)\n",
    "plt.savefig(f'Inertia.jpg',bbox_inches='tight',dpi= 300)\n",
    "plt.show()"
   ]
  },
  {
   "cell_type": "code",
   "execution_count": 14,
   "metadata": {},
   "outputs": [],
   "source": [
    "import joblib\n",
    "# joblib.dump(K_means, './Cluster/Kmeans.model')"
   ]
  },
  {
   "cell_type": "code",
   "execution_count": 20,
   "metadata": {},
   "outputs": [
    {
     "name": "stdout",
     "output_type": "stream",
     "text": [
      "436\n"
     ]
    }
   ],
   "source": [
    "k = joblib.load('./Cluster/Kmeans.model')\n",
    "print(len(k.labels_))"
   ]
  },
  {
   "cell_type": "code",
   "execution_count": 21,
   "metadata": {},
   "outputs": [
    {
     "name": "stdout",
     "output_type": "stream",
     "text": [
      "[11 10  7  1 11  6  5  4 11  9  7  4  4  1  1 11  8  5  6 11  4  5  3  6\n",
      " 10  9  8  3  5  7  6  6  2 11  9  8  6  7  1  9  7 11  9  9  6  6  2  6\n",
      "  8  6  1  4  1  6  7  9  5  4  7  0  4  5  0  6 11  5  8  8  3  3  3  6\n",
      "  2  8  3 11 11 11  8 11  5  0  9  5  7  8  6  1  7  7  2  5  7 11  8  0\n",
      "  4  0  8  4  2  6  6  1  9  9  3  5  7 10  6  9  7  9  0  2  0  1  5  0\n",
      "  8 11 10  6  1  8  6  2  7  0 10  9  1  1 10 10 11  8  6  7 10  1  8  5\n",
      " 11  5  7  8  2  1  7  0  7  2  4  6  0 10  8  8  7  0 10 10  4  7  6  1\n",
      "  5  6  1  3  2  7  1  3  5  7  4  1 10  9  2  1 11  5  0  3 11  7  6  5\n",
      "  2  7  0  5  9  7 10  6  3  9  2  4  8  9  6 11  1  7  2  4  1  8  7  6\n",
      "  9  2  1  3 11  1  7  8  7  2  0  0  8  5  1  3  5  6 10  6 11  5  5  5\n",
      " 10 10 10  8  3 10  4  6 11  3  5  5  3  0  6  1  6 11  8  8 11  5  7  1\n",
      "  4  0  9 11  7  0 11  8  0 10 10  3  9  9 10  2  7 10  8  8 10  8  1  3\n",
      " 11 11 10  6 11  0  9 10  3  7  6 11 10  0  2  4  3  8  4  7 11  1  9  2\n",
      "  0  7  5  1  3  2  7  3  4  2  3  6  3 10  6  0  2  6  7  5  2  6  8  9\n",
      "  7  3  7  3  1  3  9  3  9  7  9 10 11  2  0  1  5  3 10  9  9  7 10 10\n",
      "  2  0  3  6  5  7  7  1  7  8 11  9  8  5 10  7 11 10  1  9  8  5  5  9\n",
      "  0  7  7  9 10  5  0  5 11 11 10  7  8  8  1  7  1  1 11 11  1  4 10 11\n",
      "  5  1  2  2 10 10  2  7 10  8  0  6 10 10  7  0  7  1  6  0 11  6  7  3\n",
      "  0  7 10  9]\n"
     ]
    }
   ],
   "source": [
    "K_means = KMeans(12)\n",
    "t0 = time.time()\n",
    "K_means.fit(features)\n",
    "t_batch = time.time() - t0\n",
    "#     print('time is ',t_batch)\n",
    "labels = K_means.labels_\n",
    "print(labels)\n",
    "# print(fea_indexs)\n",
    "\n",
    "# [15 12  7 13  5 13  1 10  5 14  7 10 10  5  5 15  0 15  4 15 10  1  2  4\n",
    "#  12 14  2  2  1  7  4 13  6  5 14 11 13  7 11 14  7 15 14 14  4  4  6  4\n",
    "#   8  4  5 10 11 13  7 11  1 10  7  9  4  1  9  4  5  1  8  8  2  2  2  4\n",
    "#   6  8  2  5 15 15  0 15  1 12  8  3  3 11  4  5  7  7  6  1  7 15  0  9\n",
    "#  10  9  8 10  6  4  4 13 14 14  2  1  7 12 13 11  7 14  9  6  9  5  1 12\n",
    "#   0  5 12  4 13  0 13  6  7 12  3 11 13  5 12 12 15  8 13  7 14  5  8  1\n",
    "#   1 15  7  0 11  5  7 12  7  8 10 13  9  3  0 11  7 12  3 14 10  7  4  5\n",
    "#   3 13  5 11  6  7  5  2  1  7 10  5 12 14 11  5 15  1 12  2  1  7  4  1\n",
    "#   6  7  9  3 11  7 12  4  2 11 11 10  0 11 13  5 13  7 11 10 13  0  3 13\n",
    "#  11  6 13  4 15  5  7  8  7  6  9  9  8  1 11  2 15  4 12  4  5  1  1  1\n",
    "#  12 12 12 11  2  3 10  4 15 13  1 13 13  4 13  4  5  2 11 15  1  7  5 10\n",
    "#   9 14 15  7 12 15 11  9 12 12 11 11 14 12  6  7  7  8  2 12  0 13  2  1\n",
    "#  15 12 13  5 12  8 12  2  7 13 15 12 12 11 10  2  2 10  7 15 12 11  6  9\n",
    "#   7 15  5  2 11  7  2 10  6  2  4 13 12  4 12  6 13  7  1  6  4  0 11  7\n",
    "#  11  7  2  5  0 11  2  0  7 14  3  6  6  9 12 15  2  1  0 14  7 12 12  6\n",
    "#  12  0  4 14  3  7 11  7  8  1  0  8  1  3  7 15  3 13 14  8  1  1  0  9\n",
    "#   7  7 14  3  3  9  3 15  6  1  7  2  8  5  7 13 13  5 15 11 10 12 15  1\n",
    "#  11 11 11  1 14  6  7  3  8  9 13 12  1  7  9  7  5  4  9  6  4  7  2  9\n",
    "#   7 12 14]\n",
    "\n",
    "# [ 3 12  1  5  5  9 10 13  5 11  1 13  6  5  5  3  0 10  9 15 13 10 14  6\n",
    "#  12 11  0  6 10  1  9  9  7  5 11  0  9  1  4 11  1 15 11 11  9  6  7  9\n",
    "#   8  6  5 13  5  9  1  0 10 14  1  2  6 10  2  9 15 10  8  8  6  6  4  9\n",
    "#   7  8  4  5  3  3  8  3 10 12 11 10  1  0  9  5  1  1  7 10  1  3  8  2\n",
    "#  13  2  8 14  7  9  9  5 11 11  6 10  1 12  9  5  1 11 11  2  7  2  5 10\n",
    "#  12  8  3 12  9  5  8  9  7  1 12 12  5  9  5 12 12  3  8  9  1 10  5  8\n",
    "#  10  3 15  1  0  4  5  1 12  1  7 13  9  2 10  8  0  1 12  1 11  6  1  6\n",
    "#   5 10  9  5  4  7  1  5  8 10  1 13  5 12 11  4  5  3 15 12  4  3  1  6\n",
    "#  10  7  1  2 10  5  1 12  9  4  5  7  6  0  0  9  5  9  1  7  6  5  0  1\n",
    "#   9  5  7  5  6  3  5  1  8  1  7  2  2  8 10  5 14 15  9 12  9  3 15 10\n",
    "#  10 12 12 12  0  4 10  6  9  3  9 10  4  2  9  9  9  5  0  0  3 10  1  5\n",
    "#   6  2 11  3  1 12  3  0  2 12 12  4 11 11 12  3  1  1  0  0 12 14  5  4\n",
    "#   3  3 12  9  5 12 11 12  4  1  9  3 12 12  4 13  4  0 13  1  3  5 11  7\n",
    "#   2  1 10  5  4  7  1  6 13  7  0  6  9 12  9 12  7  9  1 10  7  6 14  0\n",
    "#   1  4  1  4  5  0  5  6 11  1 11 12  3  7  2  5 15  6 10 11 11  1 12 12\n",
    "#   7 12  0  9 15  1  1  5  1  8  3 11  0 15 10  1  3 15  5 11  8 10 15 11\n",
    "#   2  1  1 11 12 10  2 10  3  3 10  1  8  8  5  1  5  5  3  3  5 13 12 15\n",
    "#  15  5  7  4 12 11  7  1 10  8  2  9 12 12  1  2  1  5  6  2  3  9  1  4\n",
    "#   2  1 12 11]"
   ]
  },
  {
   "cell_type": "code",
   "execution_count": null,
   "metadata": {},
   "outputs": [],
   "source": []
  },
  {
   "cell_type": "code",
   "execution_count": 22,
   "metadata": {},
   "outputs": [
    {
     "name": "stdout",
     "output_type": "stream",
     "text": [
      "(436, 50)\n",
      "1617936798.3542535\n"
     ]
    },
    {
     "data": {
      "image/png": "[encoded data removed]",
      "text/plain": [
       "<Figure size 432x288 with 1 Axes>"
      ]
     },
     "metadata": {},
     "output_type": "display_data"
    }
   ],
   "source": [
    "colour = [ \"red\", \"blue\", \"green\", \"yellow\", \"purple\", \"orange\", \"black\",\\\n",
    "          '#FFB6C1','#4B0082','#778899','#E1FFFF','#8FBC8F' ]\n",
    "# colour = [ \"red\", \"blue\", \"green\", \"yellow\", \"purple\", \"orange\", \"black\",\\\n",
    "#           '#FFB6C1','#4B0082','#778899','#E1FFFF','#8FBC8F','#808000','#FFEFD5','#CD853F' ]\n",
    "color = list(map(lambda x: colour[x], labels))\n",
    "\n",
    "from sklearn.decomposition import TruncatedSVD\n",
    "from sklearn.manifold import TSNE\n",
    "import time\n",
    "\n",
    "svd = TruncatedSVD(n_components= 50,random_state = 11)\n",
    "X_reduced = svd.fit_transform(features)\n",
    "print(X_reduced.shape)\n",
    "t2 = time.time()\n",
    "print(t2)\n",
    "tsne = TSNE(n_components= 2, random_state= 1).fit_transform(X_reduced)\n",
    "\n",
    "def plot_embedding(data, label, title):\n",
    "    x_min, x_max = np.min(data, 0), np.max(data, 0)\n",
    "    data = (data - x_min) / (x_max - x_min)\n",
    "    \n",
    "    plt.figure()\n",
    "    plt.scatter(data[:,0],data[:,1],c = color )\n",
    "    plt.xticks([])\n",
    "    plt.yticks([]) \n",
    "#     plt.title(title)\n",
    "    \n",
    "    plt.savefig(f'tsne.jpg',bbox_inches='tight',dpi= 300)\n",
    "    plt.show()\n",
    "plot_embedding(tsne,labels,\"436 lesions clustering with tSNE\")"
   ]
  },
  {
   "cell_type": "code",
   "execution_count": null,
   "metadata": {},
   "outputs": [],
   "source": [
    "colour = [ \"red\", \"blue\", \"green\", \"yellow\", \"purple\", \"orange\", \"black\",\\\n",
    "          '#FFB6C1','#4B0082','#778899','#E1FFFF','#8FBC8F' ]\n",
    "# colour = [ \"red\", \"blue\", \"green\", \"yellow\", \"purple\", \"orange\", \"black\",\\\n",
    "#           '#FFB6C1','#4B0082','#778899','#E1FFFF','#8FBC8F','#808000','#FFEFD5','#CD853F' ]\n",
    "color = list(map(lambda x: colour[x], labels))\n",
    "def plot_embedding(data, label, title):\n",
    "    x_min, x_max = np.min(data, 0), np.max(data, 0)\n",
    "    data = (data - x_min) / (x_max - x_min)\n",
    "    \n",
    "    plt.figure()\n",
    "    plt.scatter(data[:,0],data[:,1],c = color )\n",
    "    plt.xticks([])\n",
    "    plt.yticks([]) \n",
    "#     plt.title(title)\n",
    "    \n",
    "#     plt.savefig(f'tsne.jpg',bbox_inches='tight', dpi= 300)\n",
    "    plt.show()\n",
    "plot_embedding(tsne,labels,\"436 lesions clustering with tSNE\")"
   ]
  },
  {
   "cell_type": "code",
   "execution_count": null,
   "metadata": {},
   "outputs": [],
   "source": []
  },
  {
   "cell_type": "code",
   "execution_count": null,
   "metadata": {},
   "outputs": [],
   "source": [
    "from collections import Counter\n",
    "a = Counter(labels)\n",
    "a = dict(a)\n",
    "print(a)\n",
    "\n",
    "x =sorted(a.items())\n",
    "c,d = zip(*x)\n",
    "print(c,d)\n",
    "plt.figure()\n",
    "plt.plot(d)\n",
    "plt.title('Sample of group')\n",
    "plt.ylabel('num of sample')\n",
    "plt.xlabel('Group')\n",
    "plt.xticks(c)\n",
    "plt.show()"
   ]
  },
  {
   "cell_type": "code",
   "execution_count": null,
   "metadata": {},
   "outputs": [],
   "source": [
    "# print(labels)\n",
    "# print(fea_indexs)\n",
    "index = np.array(fea_indexs)[labels == 0]\n",
    "# (array([  7,  11,  22,  57,  60,  69,  96,  99, 154, 175, 203, 211, 219,\n",
    "#        231, 263, 303, 318, 319, 352, 404]),)\n",
    "print(index)\n",
    "# fea_indexs"
   ]
  },
  {
   "cell_type": "markdown",
   "metadata": {},
   "source": [
    "收集聚类图片"
   ]
  },
  {
   "cell_type": "code",
   "execution_count": null,
   "metadata": {},
   "outputs": [],
   "source": [
    "import shutil\n",
    "\n",
    "image_path = f'./LUNG_image/Lung/{fold_num}_image'\n",
    "for label in range(16):\n",
    "    if not os.path.exists(os.path.join(f'./LUNG_image/Lung/{fold_num}_group','group_'+str(label))):\n",
    "        os.makedirs(os.path.join(f'./LUNG_image/Lung/{fold_num}_group','group_'+str(label)))\n",
    "    index = np.array(fea_indexs)[labels == label]\n",
    "#     print(index)\n",
    "    for i in index:\n",
    "        t_path = os.path.join(f'./LUNG_image/Lung/{fold_num}_group/group_{label}',str(i))\n",
    "        if not os.path.exists(t_path):\n",
    "            os.makedirs(t_path)\n",
    "        cam_path = os.path.join(image_path,str(i),f'{i}_cam_image.jpg')\n",
    "        input_path = os.path.join(image_path,str(i),f'{i}_input_lung.jpg')\n",
    "        normalized_path = os.path.join(image_path,str(i),f'{i}_normalized.jpg')\n",
    "        t_cam_path = os.path.join(t_path, f'{i}_cam_image.jpg')\n",
    "        t_input_path = os.path.join(t_path, f'{i}_input_lung.jpg')\n",
    "        t_normalized_path = os.path.join(t_path, f'{i}_normalized.jpg')\n",
    "        shutil.copy(cam_path,t_cam_path)\n",
    "        shutil.copy(input_path,t_input_path)\n",
    "        shutil.copy(normalized_path,t_normalized_path)"
   ]
  },
  {
   "cell_type": "markdown",
   "metadata": {},
   "source": [
    "evalution "
   ]
  },
  {
   "cell_type": "code",
   "execution_count": null,
   "metadata": {},
   "outputs": [],
   "source": []
  },
  {
   "cell_type": "code",
   "execution_count": null,
   "metadata": {},
   "outputs": [],
   "source": [
    "#Here we set the data generators for applying data augmentation methods\n",
    "fold_num = 5  #Select Fold Number\n",
    "CSV_path = '  ../../CT/External_dataset/COVIDset/CSV/'\n",
    "# train_datagen = ImageDataGenerator(horizontal_flip = True,vertical_flip=True,zoom_range = 0.05,rotation_range = 360,width_shift_range = 0.05,height_shift_range=0.05,shear_range=0.05)\n",
    "test_datagen =  ImageDataGenerator()\n",
    "# train_df = pd.read_csv('../../CT/External_dataset/COVIDset/CSV/LUNG/normal_lung_train{}.csv'.format(fold_num)) #raed train csv file\n",
    "# validation_df = pd.read_csv('../../CT/External_dataset/COVIDset/CSV/LUNG/normal_lung_validation{}.csv'.format(fold_num)) # raed validation csv file (Validation in the training process)\n",
    "# train_df = shuffle(train_df) # Shuffle the train data\n",
    "test_df = pd.read_csv('../../CT/External_dataset/COVIDset/CSV/LUNG/normal_lung_test{}.csv'.format(fold_num)) # raed test csv file (For evaluating the final version of the trained network)\n",
    "# print(len(test_df))\n",
    "test_df = shuffle(test_df)\n",
    "shape=(512,512,1) #shape of the dataset images (in TIFF format)\n",
    "#Create the generators\n",
    "test_generator = test_datagen.flow_from_dataframe(\n",
    "        dataframe=test_df,\n",
    "        directory=None,\n",
    "        x_col=\"filename\",\n",
    "        y_col=\"class\",\n",
    "        target_size=shape[:2],\n",
    "        batch_size=10,\n",
    "        class_mode='categorical', color_mode=\"grayscale\",shuffle=True)\n",
    "#  3 8329\n",
    "# 1 8322\n",
    "# 2 8343\n",
    "#  4 8315 \n",
    "# 5 8235"
   ]
  }
 ],
 "metadata": {
  "kernelspec": {
   "display_name": "Python 3",
   "language": "python",
   "name": "python3"
  },
  "language_info": {
   "codemirror_mode": {
    "name": "ipython",
    "version": 3
   },
   "file_extension": ".py",
   "mimetype": "text/x-python",
   "name": "python",
   "nbconvert_exporter": "python",
   "pygments_lexer": "ipython3",
   "version": "3.7.6"
  }
 },
 "nbformat": 4,
 "nbformat_minor": 4
}
